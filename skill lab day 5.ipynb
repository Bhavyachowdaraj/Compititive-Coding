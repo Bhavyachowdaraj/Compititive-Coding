{
 "cells": [
  {
   "cell_type": "markdown",
   "id": "fb223011-a86a-43ce-86e7-f3b8220b0345",
   "metadata": {},
   "source": [
    "Intersection of 2 arrays"
   ]
  },
  {
   "cell_type": "code",
   "execution_count": 15,
   "id": "ffa5254a-1e3b-4af8-a188-224b758f0ddd",
   "metadata": {},
   "outputs": [],
   "source": [
    "def intersection( nums1, nums2):\n",
    "    s1 = set(nums1)\n",
    "    s2 = set(nums2)\n",
    "    return list(s1.intersection(s2))\n",
    "            "
   ]
  },
  {
   "cell_type": "code",
   "execution_count": 19,
   "id": "5051e7b6-3cd1-42ca-9e48-9e4da0efd14d",
   "metadata": {},
   "outputs": [
    {
     "data": {
      "text/plain": [
       "[8, 9, 4]"
      ]
     },
     "execution_count": 19,
     "metadata": {},
     "output_type": "execute_result"
    }
   ],
   "source": [
    "intersection([9,8,4,5],[7,8,9,4])"
   ]
  },
  {
   "cell_type": "code",
   "execution_count": 20,
   "id": "fec2eb93-4eb9-407c-b58e-3f3caba01cfc",
   "metadata": {},
   "outputs": [
    {
     "data": {
      "text/plain": [
       "[2, 5]"
      ]
     },
     "execution_count": 20,
     "metadata": {},
     "output_type": "execute_result"
    }
   ],
   "source": [
    "intersection([1,2,5,7],[3,2,5,8])"
   ]
  },
  {
   "cell_type": "markdown",
   "id": "2a5aa465-fab6-49b5-9d55-4c596e72c53f",
   "metadata": {},
   "source": [
    "Rat count House"
   ]
  },
  {
   "cell_type": "code",
   "execution_count": 50,
   "id": "8178efbf-cbc8-40f5-adfe-cb87c144884e",
   "metadata": {},
   "outputs": [],
   "source": [
    "def ratcount(arr,n,r,unit):\n",
    "    if n == 0:\n",
    "        return -1\n",
    "    totalfoodrequired = r * unit\n",
    "    foodTillNow = 0\n",
    "    for house in range (n):\n",
    "        foodTillNow += arr[house]\n",
    "        if foodTillNow >= totalfoodrequired:\n",
    "            break\n",
    "    if foodTillNow < totalfoodrequired:\n",
    "        return 0\n",
    "    return house+1"
   ]
  },
  {
   "cell_type": "code",
   "execution_count": 52,
   "id": "0f5a7975-414c-4973-968b-dfe8fbb54064",
   "metadata": {},
   "outputs": [
    {
     "data": {
      "text/plain": [
       "4"
      ]
     },
     "execution_count": 52,
     "metadata": {},
     "output_type": "execute_result"
    }
   ],
   "source": [
    "ratcount(arr=[2,8,3,5,7,4],n=8,r=7,unit=2) "
   ]
  },
  {
   "cell_type": "code",
   "execution_count": 54,
   "id": "8055b30a-066e-492a-962f-9076a8a37ba5",
   "metadata": {},
   "outputs": [
    {
     "data": {
      "text/plain": [
       "-1"
      ]
     },
     "execution_count": 54,
     "metadata": {},
     "output_type": "execute_result"
    }
   ],
   "source": [
    "ratcount(arr=[],n=0,r=7,unit=2)"
   ]
  },
  {
   "cell_type": "markdown",
   "id": "7dea4630-744f-42cd-aa46-30ef86e7b05e",
   "metadata": {},
   "source": [
    "Find the factors of the given numbers and print their num in the list\n",
    "input = 12\n",
    "output = [1,2,3,4,6]"
   ]
  },
  {
   "cell_type": "code",
   "execution_count": 69,
   "id": "d9a0820c-139f-4753-ab0f-dc1924ad22f0",
   "metadata": {},
   "outputs": [],
   "source": [
    "def factor(num):\n",
    "    factor=[]\n",
    "    for i in range(1, (num + 1)):\n",
    "        if num%i == 0:\n",
    "            factor.append(i)\n",
    "    return factor"
   ]
  },
  {
   "cell_type": "code",
   "execution_count": 72,
   "id": "3ac9e245-b81c-48f6-8b46-86b46293c881",
   "metadata": {},
   "outputs": [
    {
     "data": {
      "text/plain": [
       "[1, 2, 3, 4, 6, 12]"
      ]
     },
     "execution_count": 72,
     "metadata": {},
     "output_type": "execute_result"
    }
   ],
   "source": [
    "factor(12)"
   ]
  },
  {
   "cell_type": "markdown",
   "id": "084122e6-e4ee-444a-ad50-731554a693d9",
   "metadata": {},
   "source": [
    "Using List Comprehension"
   ]
  },
  {
   "cell_type": "code",
   "execution_count": 73,
   "id": "60cd9d62-3958-4567-9800-e06e89b8a4b3",
   "metadata": {},
   "outputs": [],
   "source": [
    "#append for if\n",
    "def fact(num):\n",
    "    if num <= 0:\n",
    "        return 0\n",
    "    mylist = [i for i in range(1,num+1) if num%i == 0 ] #List comprehension\n",
    "    return mylist"
   ]
  },
  {
   "cell_type": "code",
   "execution_count": 75,
   "id": "6cd0afee-2ee6-435b-855a-a58cf911cf13",
   "metadata": {},
   "outputs": [
    {
     "data": {
      "text/plain": [
       "[1, 5, 7, 35]"
      ]
     },
     "execution_count": 75,
     "metadata": {},
     "output_type": "execute_result"
    }
   ],
   "source": [
    "fact(35)"
   ]
  },
  {
   "cell_type": "markdown",
   "id": "c301bb6c-1567-4b54-9304-9506c96be8af",
   "metadata": {},
   "source": [
    "Reverse a string using stack/array\n",
    "input = 'kill'\n",
    "output = 'llik'"
   ]
  },
  {
   "cell_type": "code",
   "execution_count": 3,
   "id": "df542161-4cc1-49bb-a044-979c09176555",
   "metadata": {},
   "outputs": [],
   "source": [
    "class mystack:\n",
    "    def __init__(self):\n",
    "        self.st = []\n",
    "    def revstr(self,mystr):   #kill\n",
    "        result = ''\n",
    "        for i in mystr:   #i = k\n",
    "            self.st.append(i)   #push\n",
    "        for i in range(len(self.st)):   #0,1,2,3\n",
    "            poped = self.st.pop()\n",
    "            result = result + poped\n",
    "        return result"
   ]
  },
  {
   "cell_type": "code",
   "execution_count": 4,
   "id": "d00ccb46-eb59-46d7-bf59-e599f9007356",
   "metadata": {},
   "outputs": [
    {
     "data": {
      "text/plain": [
       "'kcik'"
      ]
     },
     "execution_count": 4,
     "metadata": {},
     "output_type": "execute_result"
    }
   ],
   "source": [
    "B = mystack()\n",
    "B.revstr(\"kick\")"
   ]
  },
  {
   "cell_type": "markdown",
   "id": "1240d964-81c9-444a-a9b1-44618e939c23",
   "metadata": {},
   "source": [
    "Find the missing number"
   ]
  },
  {
   "cell_type": "code",
   "execution_count": 7,
   "id": "e4673639-dcef-4372-b35f-6cfe5b8f8275",
   "metadata": {},
   "outputs": [],
   "source": [
    "def missingnum(arr):\n",
    "    for i in range(1,arr[-1]+1):\n",
    "        if i not in arr:\n",
    "            return i*'*'\n",
    "            \n",
    "    "
   ]
  },
  {
   "cell_type": "code",
   "execution_count": 11,
   "id": "d199fac4-67a3-4a67-b610-017cdc8d067c",
   "metadata": {},
   "outputs": [
    {
     "data": {
      "text/plain": [
       "'*****'"
      ]
     },
     "execution_count": 11,
     "metadata": {},
     "output_type": "execute_result"
    }
   ],
   "source": [
    "missingnum([1,2,3,4,6])"
   ]
  },
  {
   "cell_type": "code",
   "execution_count": 30,
   "id": "76a49a02-6eb8-4951-af7a-b8cafcceb442",
   "metadata": {},
   "outputs": [
    {
     "data": {
      "text/plain": [
       "65"
      ]
     },
     "execution_count": 30,
     "metadata": {},
     "output_type": "execute_result"
    }
   ],
   "source": [
    "ord('A')"
   ]
  },
  {
   "cell_type": "code",
   "execution_count": 33,
   "id": "d8a75bed-d987-48de-a5dc-e3316bc60bc1",
   "metadata": {},
   "outputs": [
    {
     "data": {
      "text/plain": [
       "26"
      ]
     },
     "execution_count": 33,
     "metadata": {},
     "output_type": "execute_result"
    }
   ],
   "source": [
    "ord('Z') - 64"
   ]
  },
  {
   "cell_type": "markdown",
   "id": "fd528f8a-fb8d-44a9-8f0c-669bc6ec6763",
   "metadata": {},
   "source": [
    "Excel sheet column number"
   ]
  },
  {
   "cell_type": "code",
   "execution_count": 34,
   "id": "428d9993-b17e-4007-a661-09747db13c18",
   "metadata": {},
   "outputs": [],
   "source": [
    "def col(name):\n",
    "    result = 0\n",
    "    for i in name:\n",
    "        result = result * 26 + ord(i)-64\n",
    "    return result"
   ]
  },
  {
   "cell_type": "code",
   "execution_count": 35,
   "id": "184d3e3a-093e-4fae-a52a-2e2b43cc9a9d",
   "metadata": {},
   "outputs": [
    {
     "data": {
      "text/plain": [
       "703"
      ]
     },
     "execution_count": 35,
     "metadata": {},
     "output_type": "execute_result"
    }
   ],
   "source": [
    "col('AAA')"
   ]
  },
  {
   "cell_type": "code",
   "execution_count": 49,
   "id": "e8dccfa0-d988-4405-a603-395a0fb01d0b",
   "metadata": {},
   "outputs": [
    {
     "data": {
      "text/plain": [
       "422863851"
      ]
     },
     "execution_count": 49,
     "metadata": {},
     "output_type": "execute_result"
    }
   ],
   "source": [
    "col('bhavya')"
   ]
  },
  {
   "cell_type": "markdown",
   "id": "bfea6465-f5dc-4f05-a62a-9cbbecde8b07",
   "metadata": {},
   "source": [
    "Demonstrate ATM functions\n",
    "Get the name, fetch the pin from dictionary , if the pin matches proceed or print \"Invalid pin\"\n",
    "- Option 1 : Withdrawal\n",
    "- Option 2 : Deposit\n",
    "- Option 3 : Balance enquiry\n",
    "- Option 4 : Offers on FD\n",
    "- Option 5 : Change ATM pin\n",
    "- Option 6 : Quit"
   ]
  },
  {
   "cell_type": "code",
   "execution_count": 1,
   "id": "3d81a312-e3d4-421c-8e30-c72a4c1a9739",
   "metadata": {},
   "outputs": [],
   "source": [
    "def atm():\n",
    "    print(\"Welcome to SBI bank\")\n",
    "    pins = {\"Jwalitha\" : \"4555\", \"Bhavya\" : \"2586\", \"Anu\" : \"3692\", \"Sihi\" : \"2468\", \"Ani\" : \"9513\"}\n",
    "    bal = {\"Jwalitha\" : 20000, \"Bhavya\" : 30000, \"Anu\" : 40000, \"Sihi\" : 50000, \"Ani\" : 60000}\n",
    "    name = input(\"Enter your name:\")\n",
    "    pin = input(\"Enter your pin:\")\n",
    "    if pins[name] != pin:\n",
    "        return \"Invalid pin\"\n",
    "        \n"
   ]
  },
  {
   "cell_type": "code",
   "execution_count": 2,
   "id": "f0749c05-9210-4960-b558-4650be38312c",
   "metadata": {},
   "outputs": [
    {
     "name": "stdout",
     "output_type": "stream",
     "text": [
      "Welcome to SBI bank\n"
     ]
    },
    {
     "name": "stdin",
     "output_type": "stream",
     "text": [
      "Enter your name: Bhavya\n",
      "Enter your pin: 2586\n"
     ]
    }
   ],
   "source": [
    "atm() "
   ]
  },
  {
   "cell_type": "code",
   "execution_count": 5,
   "id": "9fd63438-d38d-41ba-b7fd-74ae85618275",
   "metadata": {},
   "outputs": [],
   "source": [
    "def atm():\n",
    "    print(\"Welcome to SBI bank\")\n",
    "    pins = {\"Jwalitha\" : \"4555\", \"Bhavya\" : \"2586\", \"Anu\" : \"3692\", \"Sihi\" : \"2468\", \"Ani\" : \"9513\"}\n",
    "    bal = {\"Jwalitha\" : 20000, \"Bhavya\" : 30000, \"Anu\" : 40000, \"Sihi\" : 50000, \"Ani\" : 60000}\n",
    "    name = input(\"Enter your name:\")\n",
    "    pin = input(\"Enter your pin:\")\n",
    "    if pins[name] != pin:\n",
    "        return \"Invalid pin\"\n",
    "    while True:\n",
    "        choices = \"Option 1 : Withdrawal\\n Option 2 : Deposit \\n Option 3 : Balance Enquiry \\n Option 4 : Offers \\n Option 5 : Change Pin \\n Option 6 :Quit\"\n",
    "        print(choices)\n",
    "        choice = int(input(\"Enter your choice:\"))\n",
    "        if choice == 1:\n",
    "            print(\"WITHDRAW\")\n",
    "            w = int(input(\"Enter the withdrawal amount:\"))\n",
    "            if w > bal[name]:\n",
    "                print(\"Insufficient Funds\")\n",
    "            else :\n",
    "                bal[name] = bal[name] - w\n",
    "        elif choice == 2:\n",
    "            print(\"DEPOSIT\")\n",
    "            d = int(input(\"Enter the deposit amount\"))\n",
    "            bal[name] = bal[name] + d\n",
    "        elif choice == 3:\n",
    "            print(\"Your current bank balance is:\",bal[name])\n",
    "        elif choice == 4:\n",
    "            print(\"FD rates or high if you lock 1L for 5 years\")\n",
    "        elif choice == 5:\n",
    "            newpin = int(input(\"Enter your pin:\"))\n",
    "            pins[name] = newpin\n",
    "            print(\"Pin updated\") \n",
    "        elif choice == 6:\n",
    "            break\n",
    "        "
   ]
  },
  {
   "cell_type": "code",
   "execution_count": 3,
   "id": "87bed678-2749-446a-b960-2b6b510291c0",
   "metadata": {},
   "outputs": [
    {
     "name": "stdout",
     "output_type": "stream",
     "text": [
      "Welcome to SBI bank\n"
     ]
    },
    {
     "name": "stdin",
     "output_type": "stream",
     "text": [
      "Enter your name: Bhavya\n",
      "Enter your pin: 2586\n"
     ]
    },
    {
     "name": "stdout",
     "output_type": "stream",
     "text": [
      "Option 1 : Withdrawal\n",
      " Option 2 : Deposit \n",
      " Option 3 : Balance Enquiry \n",
      " Option 4 : Offers \n",
      " Option 5 : Change Pin \n",
      " Option 6 :Quit\n"
     ]
    },
    {
     "name": "stdin",
     "output_type": "stream",
     "text": [
      "Enter your choice: 1\n"
     ]
    },
    {
     "name": "stdout",
     "output_type": "stream",
     "text": [
      "WITHDRAW\n"
     ]
    },
    {
     "name": "stdin",
     "output_type": "stream",
     "text": [
      "Enter the withdrawal amount: 10000\n"
     ]
    },
    {
     "name": "stdout",
     "output_type": "stream",
     "text": [
      "Option 1 : Withdrawal\n",
      " Option 2 : Deposit \n",
      " Option 3 : Balance Enquiry \n",
      " Option 4 : Offers \n",
      " Option 5 : Change Pin \n",
      " Option 6 :Quit\n"
     ]
    },
    {
     "name": "stdin",
     "output_type": "stream",
     "text": [
      "Enter your choice: 3\n"
     ]
    },
    {
     "name": "stdout",
     "output_type": "stream",
     "text": [
      "Your current bank balance is: 20000\n",
      "Option 1 : Withdrawal\n",
      " Option 2 : Deposit \n",
      " Option 3 : Balance Enquiry \n",
      " Option 4 : Offers \n",
      " Option 5 : Change Pin \n",
      " Option 6 :Quit\n"
     ]
    },
    {
     "name": "stdin",
     "output_type": "stream",
     "text": [
      "Enter your choice: 2\n"
     ]
    },
    {
     "name": "stdout",
     "output_type": "stream",
     "text": [
      "DEPOSIT\n"
     ]
    },
    {
     "name": "stdin",
     "output_type": "stream",
     "text": [
      "Enter the deposit amount 20000\n"
     ]
    },
    {
     "name": "stdout",
     "output_type": "stream",
     "text": [
      "Option 1 : Withdrawal\n",
      " Option 2 : Deposit \n",
      " Option 3 : Balance Enquiry \n",
      " Option 4 : Offers \n",
      " Option 5 : Change Pin \n",
      " Option 6 :Quit\n"
     ]
    },
    {
     "name": "stdin",
     "output_type": "stream",
     "text": [
      "Enter your choice: 4\n"
     ]
    },
    {
     "name": "stdout",
     "output_type": "stream",
     "text": [
      "FD rates or high if you lock 1L for 5 years\n",
      "Option 1 : Withdrawal\n",
      " Option 2 : Deposit \n",
      " Option 3 : Balance Enquiry \n",
      " Option 4 : Offers \n",
      " Option 5 : Change Pin \n",
      " Option 6 :Quit\n"
     ]
    },
    {
     "name": "stdin",
     "output_type": "stream",
     "text": [
      "Enter your choice: 5\n",
      "Enter your pin: 4568\n"
     ]
    },
    {
     "name": "stdout",
     "output_type": "stream",
     "text": [
      "Pin updated\n",
      "Option 1 : Withdrawal\n",
      " Option 2 : Deposit \n",
      " Option 3 : Balance Enquiry \n",
      " Option 4 : Offers \n",
      " Option 5 : Change Pin \n",
      " Option 6 :Quit\n"
     ]
    },
    {
     "name": "stdin",
     "output_type": "stream",
     "text": [
      "Enter your choice: 6\n"
     ]
    }
   ],
   "source": [
    "atm()"
   ]
  },
  {
   "cell_type": "code",
   "execution_count": 4,
   "id": "3869b263-99ff-4454-8cd0-12d313562776",
   "metadata": {},
   "outputs": [
    {
     "name": "stdout",
     "output_type": "stream",
     "text": [
      "20000\n"
     ]
    }
   ],
   "source": [
    "bal = {\"Jwalitha\" : 20000, \"Bhavya\" : 30000, \"Anu\" : 40000, \"Sihi\" : 50000}\n",
    "print(bal[\"Jwalitha\"])"
   ]
  },
  {
   "cell_type": "markdown",
   "id": "487025fe-d8ee-4f52-a6fc-ae16f92942ff",
   "metadata": {},
   "source": [
    "Removing the Nth Node from Linked list"
   ]
  },
  {
   "cell_type": "code",
   "execution_count": 57,
   "id": "3b357f2d-d6b7-4f67-97dc-a93150d189de",
   "metadata": {},
   "outputs": [],
   "source": [
    "class linkedlist:\n",
    "    class Node:\n",
    "        def __init__(self,data):\n",
    "            self.data = data\n",
    "            self.next = None\n",
    "    def __init__(self):\n",
    "        self.head = None\n",
    "    def insertbeg(self,data):\n",
    "        newnode = linkedlist.Node(data)\n",
    "        newnode.next = self.head\n",
    "        self.head = newnode\n",
    "    def traverse(self,current):\n",
    "        current = self.head\n",
    "        while current:\n",
    "            print(current.data,end=\"-->\")\n",
    "            current = current.next\n",
    "        print(None)\n",
    "    def nodefromrev(self,n):\n",
    "        count = 0\n",
    "        current = self.head\n",
    "        while current:\n",
    "            count = count + 1\n",
    "            current = current.next\n",
    "        if count == n:\n",
    "            return self.head.next\n",
    "            #finding before node\n",
    "        ptr1 = self.head\n",
    "        for _ in range(count-n-1):\n",
    "            ptr1 = ptr1.next\n",
    "        ptr1.next = ptr1.next.next\n",
    "        return self.head"
   ]
  },
  {
   "cell_type": "code",
   "execution_count": 58,
   "id": "e1df261a-cdac-43e6-a94c-a7623e072e4a",
   "metadata": {},
   "outputs": [],
   "source": [
    "LL = linkedlist()\n",
    "LL.insertbeg(60)\n",
    "LL.insertbeg(65)\n",
    "LL.insertbeg(70)\n",
    "LL.insertbeg(75)\n",
    "LL.insertbeg(80)"
   ]
  },
  {
   "cell_type": "code",
   "execution_count": 59,
   "id": "588fd136-ab97-4e5f-ad4d-d29cf5cf4b08",
   "metadata": {},
   "outputs": [
    {
     "name": "stdout",
     "output_type": "stream",
     "text": [
      "80-->75-->70-->65-->60-->None\n"
     ]
    }
   ],
   "source": [
    "LL.traverse(linkedlist)"
   ]
  },
  {
   "cell_type": "code",
   "execution_count": 60,
   "id": "57ef0b00-61f1-499f-8e3d-2b2681231d88",
   "metadata": {},
   "outputs": [
    {
     "data": {
      "text/plain": [
       "<__main__.linkedlist.Node at 0x1b86ec6c650>"
      ]
     },
     "execution_count": 60,
     "metadata": {},
     "output_type": "execute_result"
    }
   ],
   "source": [
    "LL.nodefromrev(2)"
   ]
  },
  {
   "cell_type": "code",
   "execution_count": 61,
   "id": "6c2aed82-403d-4e2c-91ef-5efa20766cde",
   "metadata": {},
   "outputs": [
    {
     "name": "stdout",
     "output_type": "stream",
     "text": [
      "80-->75-->70-->60-->None\n"
     ]
    }
   ],
   "source": [
    "LL.traverse(linkedlist)"
   ]
  },
  {
   "cell_type": "code",
   "execution_count": null,
   "id": "7f22ecb0-7210-4244-9938-b5e7db706dd9",
   "metadata": {},
   "outputs": [],
   "source": []
  },
  {
   "cell_type": "code",
   "execution_count": null,
   "id": "fe4dc9e2-6f06-4ff5-9f92-7a72f8749450",
   "metadata": {},
   "outputs": [],
   "source": []
  }
 ],
 "metadata": {
  "kernelspec": {
   "display_name": "Python 3 (ipykernel)",
   "language": "python",
   "name": "python3"
  },
  "language_info": {
   "codemirror_mode": {
    "name": "ipython",
    "version": 3
   },
   "file_extension": ".py",
   "mimetype": "text/x-python",
   "name": "python",
   "nbconvert_exporter": "python",
   "pygments_lexer": "ipython3",
   "version": "3.11.7"
  }
 },
 "nbformat": 4,
 "nbformat_minor": 5
}
