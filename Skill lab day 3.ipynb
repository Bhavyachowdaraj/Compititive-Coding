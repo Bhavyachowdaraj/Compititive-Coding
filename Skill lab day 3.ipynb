{
 "cells": [
  {
   "cell_type": "markdown",
   "id": "a05bfe52-a309-421a-8674-226090e654e1",
   "metadata": {},
   "source": [
    "Binary addition"
   ]
  },
  {
   "cell_type": "code",
   "execution_count": 5,
   "id": "2e4984fb-58cb-4b95-be45-cfc7654b34e1",
   "metadata": {},
   "outputs": [
    {
     "name": "stdout",
     "output_type": "stream",
     "text": [
      "3\n",
      "1\n"
     ]
    }
   ],
   "source": [
    "a=\"11\"\n",
    "b=\"1\"\n",
    "c=int(a,2)\n",
    "d=int(b,2)\n",
    "print(c)\n",
    "print(d)"
   ]
  },
  {
   "cell_type": "code",
   "execution_count": 8,
   "id": "014b8157-7764-42b9-abe6-97a8095a2da5",
   "metadata": {},
   "outputs": [
    {
     "name": "stdout",
     "output_type": "stream",
     "text": [
      "4\n"
     ]
    }
   ],
   "source": [
    "print(c+d)"
   ]
  },
  {
   "cell_type": "code",
   "execution_count": 9,
   "id": "4d178dcf-d591-4924-a0da-cc89820482f6",
   "metadata": {},
   "outputs": [
    {
     "data": {
      "text/plain": [
       "'100'"
      ]
     },
     "execution_count": 9,
     "metadata": {},
     "output_type": "execute_result"
    }
   ],
   "source": [
    "bin(c+d)[2:]"
   ]
  },
  {
   "cell_type": "code",
   "execution_count": 10,
   "id": "e7e504cf-914a-4696-bbbb-1e76efba2011",
   "metadata": {},
   "outputs": [],
   "source": [
    "def binadd(a,b):\n",
    "            return  bin(int(a,2)+int(b,2))[2:]"
   ]
  },
  {
   "cell_type": "code",
   "execution_count": 14,
   "id": "9b0004b0-e081-4561-aa57-4c3475ffc690",
   "metadata": {},
   "outputs": [
    {
     "data": {
      "text/plain": [
       "'110'"
      ]
     },
     "execution_count": 14,
     "metadata": {},
     "output_type": "execute_result"
    }
   ],
   "source": [
    "binadd(\"101\",\"1\")"
   ]
  },
  {
   "cell_type": "markdown",
   "id": "c0aee7a5-1cf6-404f-8881-2e87968a8107",
   "metadata": {},
   "source": [
    "Without using import function, adding sum"
   ]
  },
  {
   "cell_type": "code",
   "execution_count": 17,
   "id": "c69a9075-3bd6-4413-8215-f8b83694a2cc",
   "metadata": {},
   "outputs": [],
   "source": [
    "def distance(x1,x2,x3,y1,y2,y3):\n",
    "    AB = ((x2-x1)**2 + (y2-y1)**2)**0.5\n",
    "    BC = ((x3-x2)**2 + (y3-y2)**2)**0.5\n",
    "    CA = ((x1-x3)**2 + (y1-y3)**2)**0.5\n",
    "    return AB+BC+CA"
   ]
  },
  {
   "cell_type": "code",
   "execution_count": 18,
   "id": "4dd4b02c-2804-468a-b07d-e637811b47a5",
   "metadata": {},
   "outputs": [
    {
     "data": {
      "text/plain": [
       "8.94427190999916"
      ]
     },
     "execution_count": 18,
     "metadata": {},
     "output_type": "execute_result"
    }
   ],
   "source": [
    "distance(x1=1,x2=2,x3=3,y1=2,y2=4,y3=6)"
   ]
  },
  {
   "cell_type": "markdown",
   "id": "f9c3a931-6a7b-41e7-a81b-ae4afbf57af1",
   "metadata": {},
   "source": [
    "String to Integer (atoi)"
   ]
  },
  {
   "cell_type": "code",
   "execution_count": 3,
   "id": "7e6a1f22-0f88-4b2f-b279-8506ebd14316",
   "metadata": {},
   "outputs": [],
   "source": [
    "def atoi(s):\n",
    "    s=s.strip()\n",
    "    sign=1\n",
    "    #signedness\n",
    "    if len(s)==0:\n",
    "        return 0\n",
    "    if s[0]=='-':\n",
    "        sign=-1\n",
    "        s=s[1:]\n",
    "    elif s[0]=='+':\n",
    "        s=s[1:]\n",
    "    #conversion\n",
    "    result=0\n",
    "    for i in s:\n",
    "        if i.isdigit():\n",
    "            digit=int(i)\n",
    "            result = result*10+digit\n",
    "        else:\n",
    "            break\n",
    "    result=result*sign\n",
    "    #Rounding to maxi or mini\n",
    "    mini = -2**31\n",
    "    maxi = 2**31-1\n",
    "    if result > maxi:\n",
    "        return maxi\n",
    "    elif result < mini:\n",
    "        return mini\n",
    "    else:\n",
    "        return result"
   ]
  },
  {
   "cell_type": "code",
   "execution_count": 4,
   "id": "6d022402-5253-4230-bdaa-e35bfda89906",
   "metadata": {},
   "outputs": [
    {
     "data": {
      "text/plain": [
       "776769"
      ]
     },
     "execution_count": 4,
     "metadata": {},
     "output_type": "execute_result"
    }
   ],
   "source": [
    "atoi(\"776769hjkk1\")"
   ]
  },
  {
   "cell_type": "markdown",
   "id": "460fd22a-1ca5-4401-9716-30a9f1abf5bd",
   "metadata": {},
   "source": [
    "Roman to  Integer"
   ]
  },
  {
   "cell_type": "code",
   "execution_count": 14,
   "id": "e914548a-c159-4090-a4d4-94dfb8fd1c3c",
   "metadata": {},
   "outputs": [],
   "source": [
    "def romantoint(s):\n",
    "    R={\n",
    "        \"I\":1,\n",
    "        \"V\":5,\n",
    "        \"X\":10,\n",
    "        \"L\":50,\n",
    "        \"C\":100,\n",
    "        \"D\":500,\n",
    "        \"M\":1000\n",
    "    }\n",
    "    total=0\n",
    "    for i in range(len(s)):\n",
    "        cval=R[s[i]]\n",
    "        nval=R[s[i+1]] if i+1<len(s) else 0\n",
    "        if cval >= nval:\n",
    "            total = total + cval\n",
    "        else:\n",
    "            total = total - cval\n",
    "    return total"
   ]
  },
  {
   "cell_type": "code",
   "execution_count": 16,
   "id": "8d7d0f97-2688-4a5d-bec4-312fb9dc1522",
   "metadata": {},
   "outputs": [
    {
     "data": {
      "text/plain": [
       "1994"
      ]
     },
     "execution_count": 16,
     "metadata": {},
     "output_type": "execute_result"
    }
   ],
   "source": [
    "romantoint(\"MCMXCIV\")"
   ]
  },
  {
   "cell_type": "code",
   "execution_count": 19,
   "id": "11493a3d-5264-43db-b62a-96652f69e808",
   "metadata": {},
   "outputs": [
    {
     "data": {
      "text/plain": [
       "[2, 4, 5, 1, 3]"
      ]
     },
     "execution_count": 19,
     "metadata": {},
     "output_type": "execute_result"
    }
   ],
   "source": [
    "import random\n",
    "l1=[2,1,3,4,5]\n",
    "random.shuffle(l1)\n",
    "l1"
   ]
  },
  {
   "cell_type": "code",
   "execution_count": 22,
   "id": "d7dad337-f051-40e7-ace7-1cf6658b989c",
   "metadata": {},
   "outputs": [],
   "source": [
    "def randomize(arr):\n",
    "    import random as rd\n",
    "    rd.shuffle(arr)\n",
    "    return arr"
   ]
  },
  {
   "cell_type": "code",
   "execution_count": 23,
   "id": "1bd00915-4f81-4148-941e-3e38104e627f",
   "metadata": {},
   "outputs": [
    {
     "data": {
      "text/plain": [
       "[7, 4, 8, 5, 5]"
      ]
     },
     "execution_count": 23,
     "metadata": {},
     "output_type": "execute_result"
    }
   ],
   "source": [
    "randomize([4,5,7,5,8])"
   ]
  },
  {
   "cell_type": "markdown",
   "id": "b17a2dfd-3850-4597-b176-7c84257befdf",
   "metadata": {},
   "source": [
    "Find the index of first occurence"
   ]
  },
  {
   "cell_type": "code",
   "execution_count": 3,
   "id": "58332da9-809a-4549-8d21-a04865ba1482",
   "metadata": {},
   "outputs": [
    {
     "data": {
      "text/plain": [
       "11"
      ]
     },
     "execution_count": 3,
     "metadata": {},
     "output_type": "execute_result"
    }
   ],
   "source": [
    "def substring(haystack, needle):\n",
    "    return haystack.find(needle)\n",
    "    #outputs the index number when it finds the given string\n",
    "haystack = 'hellohigkuybhavyahidjhbhav'\n",
    "needle = 'bhavya'\n",
    "substring(haystack, needle)\n",
    "    "
   ]
  },
  {
   "cell_type": "markdown",
   "id": "a040b66e-3f95-4053-9c86-6ef894fb89b5",
   "metadata": {},
   "source": [
    "Two Sum"
   ]
  },
  {
   "cell_type": "code",
   "execution_count": 8,
   "id": "358a7034-e9cf-4d07-9e9d-87c0ee52df17",
   "metadata": {},
   "outputs": [],
   "source": [
    "def twosum(nums,target):\n",
    "    for i in range(len(nums)):\n",
    "        for j in range(i+1,len(nums)):\n",
    "            if nums[i]+nums[j]==target:\n",
    "                return [i,j]\n",
    "            "
   ]
  },
  {
   "cell_type": "code",
   "execution_count": 10,
   "id": "bf3599b2-750f-4c09-b022-9fb4fdcbfcf0",
   "metadata": {},
   "outputs": [
    {
     "data": {
      "text/plain": [
       "[0, 4]"
      ]
     },
     "execution_count": 10,
     "metadata": {},
     "output_type": "execute_result"
    }
   ],
   "source": [
    "twosum([1,3,4,2,5],6)"
   ]
  },
  {
   "cell_type": "markdown",
   "id": "d6e3c5b0-6561-45d9-bc3c-1c6eb59894f9",
   "metadata": {},
   "source": [
    "Tax Calculator"
   ]
  },
  {
   "cell_type": "code",
   "execution_count": 41,
   "id": "c297f68b-0d28-4094-9ffa-bce9e5f561b9",
   "metadata": {},
   "outputs": [],
   "source": [
    "def taxcalc(sal):\n",
    "    res=0\n",
    "    if sal<0:\n",
    "        return 0\n",
    "    if sal >=0 and sal <= 5000:\n",
    "        return \"no tax\"\n",
    "    elif sal >5000 & sal <=10000:\n",
    "        res=res+(sal-(sal*0.05+10))\n",
    "        return res\n",
    "    elif sal > 10000 & sal <=50000:\n",
    "        res=res(sal-(sal*0.10+100))\n",
    "        return res\n",
    "    elif sal > 50000 & sal <= 100000:\n",
    "        res=res(sal-(sal*0.15+150))\n",
    "        return res\n",
    "    elif sal > 100000 & sal <= 5000000:\n",
    "        res=res(sal-(sal*0.20+600))\n",
    "        return res\n",
    "    else:\n",
    "        return \"Salary limit is exceeded\"   "
   ]
  },
  {
   "cell_type": "code",
   "execution_count": 47,
   "id": "7dd16b95-69fc-4b28-9f53-5356b4760e71",
   "metadata": {},
   "outputs": [
    {
     "data": {
      "text/plain": [
       "189990.0"
      ]
     },
     "execution_count": 47,
     "metadata": {},
     "output_type": "execute_result"
    }
   ],
   "source": [
    "taxcalc(2000)"
   ]
  },
  {
   "cell_type": "markdown",
   "id": "82bc7abf-2711-4901-baa3-cc3692c56251",
   "metadata": {},
   "source": [
    "Remove duplicates from sorted array"
   ]
  },
  {
   "cell_type": "code",
   "execution_count": 61,
   "id": "554ff3f8-1280-4a89-99b1-44a5a8412c1c",
   "metadata": {},
   "outputs": [],
   "source": [
    "def removeDuplicate(nums):\n",
    "    ind = 0\n",
    "    for i in range(1,len(nums)):\n",
    "        if nums[ind] != nums[i]:\n",
    "            ind = ind+1\n",
    "            nums[ind]=nums[i]\n",
    "        return ind+1"
   ]
  },
  {
   "cell_type": "code",
   "execution_count": 62,
   "id": "001f4141-23d3-4634-87cd-f0dee46e6a25",
   "metadata": {},
   "outputs": [
    {
     "data": {
      "text/plain": [
       "2"
      ]
     },
     "execution_count": 62,
     "metadata": {},
     "output_type": "execute_result"
    }
   ],
   "source": [
    "removeDuplicate([1,2,2,3,3,4])"
   ]
  },
  {
   "cell_type": "code",
   "execution_count": 94,
   "id": "c574bc13-aea1-4332-b1e8-5e2e7f90e804",
   "metadata": {},
   "outputs": [],
   "source": [
    "def climbStairs(n):\n",
    "    if n<= 2:\n",
    "        return n\n",
    "    a=1\n",
    "    b=2\n",
    "    for i in range(4,n+1):\n",
    "        a,b=b,a+b\n",
    "    return b"
   ]
  },
  {
   "cell_type": "code",
   "execution_count": 95,
   "id": "bd900beb-3eaf-48a5-bbc2-b8379e5e4a8d",
   "metadata": {},
   "outputs": [
    {
     "data": {
      "text/plain": [
       "2"
      ]
     },
     "execution_count": 95,
     "metadata": {},
     "output_type": "execute_result"
    }
   ],
   "source": [
    "climbStairs(3)"
   ]
  }
 ],
 "metadata": {
  "kernelspec": {
   "display_name": "Python 3 (ipykernel)",
   "language": "python",
   "name": "python3"
  },
  "language_info": {
   "codemirror_mode": {
    "name": "ipython",
    "version": 3
   },
   "file_extension": ".py",
   "mimetype": "text/x-python",
   "name": "python",
   "nbconvert_exporter": "python",
   "pygments_lexer": "ipython3",
   "version": "3.11.7"
  }
 },
 "nbformat": 4,
 "nbformat_minor": 5
}
