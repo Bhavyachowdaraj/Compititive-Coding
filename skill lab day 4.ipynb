{
 "cells": [
  {
   "cell_type": "markdown",
   "id": "cc46e7d8-eb41-4fc3-8097-d7a4b5a5cb29",
   "metadata": {},
   "source": [
    "Coding problems on DSA"
   ]
  },
  {
   "cell_type": "markdown",
   "id": "b74b4a1d-be31-4b34-8864-9842a3a4cd3b",
   "metadata": {},
   "source": [
    "Write a class for linked list which can perform :\n",
    "- Insert at beginning\n",
    "- Deleting by node\n",
    "- Printing"
   ]
  },
  {
   "cell_type": "code",
   "execution_count": 8,
   "id": "d684e68d-a3cd-4b54-9c55-655d689583cf",
   "metadata": {},
   "outputs": [],
   "source": [
    "class linkedlist:\n",
    "    class Node:\n",
    "        def __init(self,data):\n",
    "            self.data=data\n",
    "            self.next=None\n",
    "    def __init(data):\n",
    "        self.head=None\n",
    "    def insertbeg(self,data):\n",
    "        new_node=Node(data)\n",
    "        new_node.next=self.data\n",
    "        self.head=new_node\n",
    "    def insert_at_end(self, data):\n",
    "        new_node = Node(data)\n",
    "        if self.head is None:\n",
    "            self.head = new_node\n",
    "            return\n",
    "        last_node = self.head\n",
    "        while last_node.next:\n",
    "            last_node = last_node.next\n",
    "            last_node.next = new_node\n",
    "    def traverse(data):\n",
    "        curent=current.next\n",
    "        while current:\n",
    "            print(current.data,end = \"-->\")\n",
    "            current=current.next\n",
    "            print(None)\n",
    "    def delbynode(self,val):\n",
    "        #No linked list exists\n",
    "        if self.head == None:\n",
    "            return \"List is empty\"\n",
    "        #if linked list exists\n",
    "            current=self.head\n",
    "            while current.next:\n",
    "                if current.next.data==val:\n",
    "                    break\n",
    "                current = current.next\n",
    "            #Node doesn't exist\n",
    "            if current.next == None:\n",
    "                print(\"Node doesn't exist\")\n",
    "            else:\n",
    "                current.next=current.next.next   #Node found\n",
    "            \n",
    "        "
   ]
  },
  {
   "cell_type": "code",
   "execution_count": 3,
   "id": "3165dad9-4e35-4c20-a481-a7adfd5199e6",
   "metadata": {},
   "outputs": [
    {
     "ename": "NameError",
     "evalue": "name 'linkedlist' is not defined",
     "output_type": "error",
     "traceback": [
      "\u001b[1;31m---------------------------------------------------------------------------\u001b[0m",
      "\u001b[1;31mNameError\u001b[0m                                 Traceback (most recent call last)",
      "Cell \u001b[1;32mIn[3], line 1\u001b[0m\n\u001b[1;32m----> 1\u001b[0m LL \u001b[38;5;241m=\u001b[39m linkedlist()\n\u001b[0;32m      2\u001b[0m LL\u001b[38;5;241m.\u001b[39minsertbeg(\u001b[38;5;241m60\u001b[39m)\n\u001b[0;32m      3\u001b[0m LL\u001b[38;5;241m.\u001b[39minsertbeg(\u001b[38;5;241m70\u001b[39m)\n",
      "\u001b[1;31mNameError\u001b[0m: name 'linkedlist' is not defined"
     ]
    }
   ],
   "source": [
    "LL = linkedlist()\n",
    "LL.insertbeg(60)\n",
    "LL.insertbeg(70)\n",
    "LL.insertbeg(75)\n",
    "LL.insertbeg(80)\n",
    "LL.insertbeg(90)\n",
    "LL.traverse()"
   ]
  },
  {
   "cell_type": "markdown",
   "id": "6a050de3-9da9-4dc5-8731-93466799f2d0",
   "metadata": {},
   "source": [
    "Linked list cycle"
   ]
  },
  {
   "cell_type": "code",
   "execution_count": 11,
   "id": "9e72c5fb-dc51-4ef9-aab2-15763c139918",
   "metadata": {},
   "outputs": [],
   "source": [
    "def hascycle(self):\n",
    "    t,r=self.head\n",
    "    while r and r.next:\n",
    "        t=t.next\n",
    "        r=r.next.next\n",
    "        if r == t:\n",
    "            return \"Cycle formed\"\n",
    "    return \"no cycle\""
   ]
  },
  {
   "cell_type": "markdown",
   "id": "a2b2a0bf-bf1f-49a6-a874-ff290eb6676c",
   "metadata": {},
   "source": [
    "Middle of the Linked List"
   ]
  },
  {
   "cell_type": "code",
   "execution_count": 2,
   "id": "5a4248ab-9549-4e80-b5d5-ff00c672069c",
   "metadata": {},
   "outputs": [],
   "source": [
    "def middlelist(self):\n",
    "    t = head\n",
    "    r = head\n",
    "    while r and r.next:\n",
    "        t = t.next\n",
    "        r = r.next.next\n",
    "    return t"
   ]
  },
  {
   "cell_type": "markdown",
   "id": "5c145fe1-ca9d-4671-aa5a-2960b7481e05",
   "metadata": {},
   "source": [
    "Reverse linked list"
   ]
  },
  {
   "cell_type": "code",
   "execution_count": 11,
   "id": "f22ef283-0ebf-4d6a-bd5a-bd57fe4019b8",
   "metadata": {},
   "outputs": [],
   "source": [
    "def reverselinkedlist(self):\n",
    "    prev = Null\n",
    "    current = self.head\n",
    "    while prev and curent.next:\n",
    "        N = current.next\n",
    "        current.next = prev\n",
    "        prev = current\n",
    "        current = N\n",
    "    self.head = prev\n",
    "    return prev"
   ]
  },
  {
   "cell_type": "markdown",
   "id": "8b1f9f0c-ad7a-473b-bea7-c535da73dd1d",
   "metadata": {},
   "source": [
    "Merge two linked list"
   ]
  },
  {
   "cell_type": "code",
   "execution_count": 1,
   "id": "2b886768-7ac8-4852-89b3-00c5166b07cf",
   "metadata": {},
   "outputs": [],
   "source": [
    "def merge(self,l1,l2):\n",
    "    dummy = Node(0)\n",
    "    current = dummy\n",
    "    while l1 and l2:\n",
    "        if l1 < l2:\n",
    "            current.next = l1\n",
    "            l1 = l1.next\n",
    "        else:\n",
    "            current.next = l2\n",
    "            l2 = l2.next\n",
    "    if l1:\n",
    "        current.next = l1\n",
    "    elif l2:\n",
    "        current.next = l2\n",
    "    return dummy.next\n",
    "        "
   ]
  },
  {
   "cell_type": "code",
   "execution_count": 5,
   "id": "fb93928d-28b3-4a5a-9397-bb85529fd142",
   "metadata": {},
   "outputs": [],
   "source": [
    "def positivenum(m,n):\n",
    "    sum = 0\n",
    "    for i in range(m,n+1):\n",
    "        if (i%3 == 0) and (i%5 == 0):\n",
    "            sum = sum + i\n",
    "    return sum\n",
    "    m = int(input(\"Enter the value of m:\"))\n",
    "    n = int(input(\"Enter the value of n:\"))\n",
    "    result = positivenum(m,n)\n",
    "    print(result)\n"
   ]
  },
  {
   "cell_type": "code",
   "execution_count": 7,
   "id": "8073f338-d5a4-4d92-81b9-3f337b6ef452",
   "metadata": {},
   "outputs": [
    {
     "data": {
      "text/plain": [
       "90"
      ]
     },
     "execution_count": 7,
     "metadata": {},
     "output_type": "execute_result"
    }
   ],
   "source": [
    "positivenum(15,45)"
   ]
  },
  {
   "cell_type": "code",
   "execution_count": 34,
   "id": "bb3f343e-abb5-411c-b256-aa156c4873b9",
   "metadata": {},
   "outputs": [],
   "source": [
    "def addnum(l1,l2):\n",
    "    dummy = linkedlist.Node(0)\n",
    "    current = dummy\n",
    "    while l1 or l2 or carry:\n",
    "        val1 = l1.data if l1 else 0\n",
    "        val2 = l2.data if l2 else 0\n",
    "        total = val1 + val2 + carry\n",
    "        #saving carry for next iteration\n",
    "        carry = total // 10\n",
    "        element = total % 10\n",
    "        #create node with elements\n",
    "        newnode = linkedlist.Node(element)\n",
    "        #insertion of dummy node\n",
    "        current = current.next\n",
    "    return dummy.next"
   ]
  },
  {
   "cell_type": "markdown",
   "id": "b79df66b-7815-4711-bd47-d125baa1bc5b",
   "metadata": {},
   "source": [
    "Maximum sum of subarray"
   ]
  },
  {
   "cell_type": "code",
   "execution_count": 36,
   "id": "50f4df12-6122-42c9-b5b7-716568b950ef",
   "metadata": {},
   "outputs": [],
   "source": [
    "def maxsum(arr):\n",
    "    c = arr[0] \n",
    "    g = arr[0]\n",
    "    for i in range(1,len(arr)):\n",
    "        c = max(arr[i],c+arr[i])\n",
    "        g = max(c,g)\n",
    "    return g"
   ]
  },
  {
   "cell_type": "code",
   "execution_count": 37,
   "id": "4875d865-ec6f-4f20-9e79-2576ab306270",
   "metadata": {},
   "outputs": [
    {
     "data": {
      "text/plain": [
       "22"
      ]
     },
     "execution_count": 37,
     "metadata": {},
     "output_type": "execute_result"
    }
   ],
   "source": [
    "maxsum([-1,-2,-3,4,5,6,7,-1]) "
   ]
  },
  {
   "cell_type": "markdown",
   "id": "a1a20a29-6d79-47e4-a953-fe42decc6c7b",
   "metadata": {},
   "source": [
    "Implementing queue using stack"
   ]
  },
  {
   "cell_type": "code",
   "execution_count": 45,
   "id": "9d02c8c0-b817-4d3e-9286-a99f1ef55db5",
   "metadata": {},
   "outputs": [],
   "source": [
    "class stack:\n",
    "    def __init__(self):\n",
    "        self.s1=[]\n",
    "        self.temp=[]\n",
    "    def push(self,val):\n",
    "        while self.s1:\n",
    "            popped = self.s1.pop()\n",
    "            self.temp.append(popped)\n",
    "        self.s1.append(val)\n",
    "        while self.temp:\n",
    "            poped = self.temp.pop()\n",
    "            self.s1.append(poped)\n",
    "    def pop(self):\n",
    "        return self.s1.pop() if self.s1 else \"No elements\"\n",
    "        "
   ]
  },
  {
   "cell_type": "code",
   "execution_count": 46,
   "id": "c4ce9272-1259-4583-9545-bb6614d84179",
   "metadata": {},
   "outputs": [
    {
     "data": {
      "text/plain": [
       "90"
      ]
     },
     "execution_count": 46,
     "metadata": {},
     "output_type": "execute_result"
    }
   ],
   "source": [
    "s = stack()\n",
    "s.push(90)   #first\n",
    "s.push(89)\n",
    "s.push(56)   #last\n",
    "s.pop()"
   ]
  },
  {
   "cell_type": "code",
   "execution_count": null,
   "id": "8ed7fe2a-675e-4cd8-8440-644a925ab3ee",
   "metadata": {},
   "outputs": [],
   "source": []
  }
 ],
 "metadata": {
  "kernelspec": {
   "display_name": "Python 3 (ipykernel)",
   "language": "python",
   "name": "python3"
  },
  "language_info": {
   "codemirror_mode": {
    "name": "ipython",
    "version": 3
   },
   "file_extension": ".py",
   "mimetype": "text/x-python",
   "name": "python",
   "nbconvert_exporter": "python",
   "pygments_lexer": "ipython3",
   "version": "3.11.7"
  }
 },
 "nbformat": 4,
 "nbformat_minor": 5
}
